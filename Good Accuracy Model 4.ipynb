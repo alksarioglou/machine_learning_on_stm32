{
 "cells": [
  {
   "cell_type": "markdown",
   "metadata": {
    "id": "DSPCom-KmApV"
   },
   "source": [
    "# Complex Convolutional Neural Network (CNN)"
   ]
  },
  {
   "cell_type": "code",
   "execution_count": 1,
   "metadata": {
    "id": "iAve6DCL4JH4"
   },
   "outputs": [],
   "source": [
    "import tensorflow as tf\n",
    "\n",
    "from tensorflow.keras import datasets, layers, models\n",
    "import matplotlib.pyplot as plt\n",
    "\n",
    "import tensorflow as tf\n",
    "\n",
    "from tensorflow.keras import datasets, layers, models\n",
    "import matplotlib.pyplot as plt\n",
    "import numpy as np\n",
    "import os\n",
    "import h5py"
   ]
  },
  {
   "cell_type": "code",
   "execution_count": 2,
   "metadata": {},
   "outputs": [
    {
     "name": "stdout",
     "output_type": "stream",
     "text": [
      "2.3.0\n"
     ]
    }
   ],
   "source": [
    "print(tf.__version__)"
   ]
  },
  {
   "cell_type": "code",
   "execution_count": 3,
   "metadata": {},
   "outputs": [
    {
     "name": "stdout",
     "output_type": "stream",
     "text": [
      "<KeysViewHDF5 ['training_d']>\n",
      "<KeysViewHDF5 ['train_labels_d']>\n"
     ]
    }
   ],
   "source": [
    "# X training\n",
    "f = h5py.File(\"./X_training_serial_balanced.h5\",\"r\")\n",
    "print(f.keys())\n",
    "train_images = f['training_d'][:].astype('float32')\n",
    "f.close()\n",
    "train_images[np.isnan(train_images)] = 0.\n",
    "\n",
    "# Y training\n",
    "f = h5py.File(\"./Y_training_serial_balanced.h5\",\"r\")\n",
    "print(f.keys())\n",
    "train_labels = f['train_labels_d'][:].astype(int)\n",
    "f.close()\n",
    "\n",
    "# X validation\n",
    "f = h5py.File(\"./X_validation.h5\",\"r\")\n",
    "val_images = f['validation'][:]\n",
    "f.close()\n",
    "val_images[np.isnan(val_images)] = 0.\n",
    "\n",
    "# Y validation\n",
    "f = h5py.File(\"./Y_validation.h5\",\"r\")\n",
    "val_labels = f['val_labels'][:].astype(int)\n",
    "f.close()\n",
    "\n",
    "# X testing\n",
    "f = h5py.File(\"./X_testing.h5\",\"r\")\n",
    "test_images = f['testing'][:]\n",
    "f.close()\n",
    "test_images[np.isnan(test_images)] = 0.\n",
    "\n",
    "# Y testing\n",
    "f = h5py.File(\"./Y_testing.h5\",\"r\")\n",
    "test_labels = f['test_labels'][:].astype(int)\n",
    "f.close()\n"
   ]
  },
  {
   "cell_type": "code",
   "execution_count": 4,
   "metadata": {},
   "outputs": [
    {
     "name": "stdout",
     "output_type": "stream",
     "text": [
      "[22540 22540 22540 22540 22540]\n",
      "[[0]\n",
      " [0]\n",
      " [0]\n",
      " [0]\n",
      " [0]\n",
      " [0]\n",
      " [0]\n",
      " [1]\n",
      " [1]\n",
      " [1]]\n"
     ]
    }
   ],
   "source": [
    "# Number of occurences of each class that occur before\n",
    "a = np.unique(train_labels,return_counts =1, return_index=1, return_inverse = 1)\n",
    "print(a[3])\n",
    "\n",
    "print(train_labels[3:13])\n"
   ]
  },
  {
   "cell_type": "code",
   "execution_count": 5,
   "metadata": {},
   "outputs": [
    {
     "name": "stdout",
     "output_type": "stream",
     "text": [
      "0.024730772\n",
      "<class 'numpy.float32'>\n"
     ]
    }
   ],
   "source": [
    "print(train_images[0][16][16][0])\n",
    "print(type(train_images[0][16][16][0]))"
   ]
  },
  {
   "cell_type": "markdown",
   "metadata": {
    "id": "jRFxccghyMVo"
   },
   "source": [
    "# Model"
   ]
  },
  {
   "cell_type": "code",
   "execution_count": 6,
   "metadata": {
    "id": "L9YmGQBQPrdn"
   },
   "outputs": [
    {
     "name": "stdout",
     "output_type": "stream",
     "text": [
      "Model: \"sequential\"\n",
      "_________________________________________________________________\n",
      "Layer (type)                 Output Shape              Param #   \n",
      "=================================================================\n",
      "conv2d (Conv2D)              (None, 16, 16, 32)        416       \n",
      "_________________________________________________________________\n",
      "conv2d_1 (Conv2D)            (None, 8, 8, 64)          8256      \n",
      "_________________________________________________________________\n",
      "conv2d_2 (Conv2D)            (None, 4, 4, 64)          16448     \n",
      "_________________________________________________________________\n",
      "flatten (Flatten)            (None, 1024)              0         \n",
      "_________________________________________________________________\n",
      "dense (Dense)                (None, 5)                 5125      \n",
      "=================================================================\n",
      "Total params: 30,245\n",
      "Trainable params: 30,245\n",
      "Non-trainable params: 0\n",
      "_________________________________________________________________\n"
     ]
    }
   ],
   "source": [
    "# Simple CNN Network\n",
    "from tensorflow.keras.layers import TimeDistributed\n",
    "\n",
    "model = models.Sequential()\n",
    "model.add(layers.Conv2D(32, kernel_size = (2, 2), strides = (2,2), activation='relu', input_shape=(32, 32, 3)))\n",
    "model.add(layers.Conv2D(64, kernel_size = (2, 2), strides = (2,2), activation='relu'))\n",
    "model.add(layers.Conv2D(64, kernel_size = (2, 2), strides = (2,2), activation='relu'))\n",
    "model.add(layers.Flatten())\n",
    "model.add(layers.Dense(5, activation='softmax'))\n",
    "\n",
    "\n",
    "from tensorflow.keras.optimizers import SGD\n",
    "model.compile(optimizer=SGD(learning_rate=0.01),\n",
    "              loss='sparse_categorical_crossentropy',\n",
    "              metrics=['accuracy'])\n",
    "\n",
    "model.summary()"
   ]
  },
  {
   "cell_type": "code",
   "execution_count": 7,
   "metadata": {
    "id": "MdDzI75PUXrG"
   },
   "outputs": [
    {
     "name": "stdout",
     "output_type": "stream",
     "text": [
      "Epoch 1/20\n",
      "14088/14088 [==============================] - 43s 3ms/step - loss: 1.5851 - accuracy: 0.2578 - val_loss: 1.6051 - val_accuracy: 0.2928\n",
      "Epoch 2/20\n",
      "14088/14088 [==============================] - 39s 3ms/step - loss: 1.5587 - accuracy: 0.2880 - val_loss: 1.7338 - val_accuracy: 0.2289\n",
      "Epoch 3/20\n",
      "14088/14088 [==============================] - 40s 3ms/step - loss: 1.5393 - accuracy: 0.3049 - val_loss: 1.6596 - val_accuracy: 0.2906\n",
      "Epoch 4/20\n",
      "14088/14088 [==============================] - 38s 3ms/step - loss: 1.5243 - accuracy: 0.3138 - val_loss: 1.8121 - val_accuracy: 0.1861\n",
      "Epoch 5/20\n",
      "14088/14088 [==============================] - 38s 3ms/step - loss: 1.5115 - accuracy: 0.3215 - val_loss: 1.8338 - val_accuracy: 0.1850\n",
      "Epoch 6/20\n",
      "14088/14088 [==============================] - 40s 3ms/step - loss: 1.5011 - accuracy: 0.3301 - val_loss: 1.7628 - val_accuracy: 0.2233\n",
      "Epoch 7/20\n",
      "14088/14088 [==============================] - 41s 3ms/step - loss: 1.4929 - accuracy: 0.3343 - val_loss: 1.8528 - val_accuracy: 0.1972\n",
      "Epoch 8/20\n",
      "14088/14088 [==============================] - 39s 3ms/step - loss: 1.4857 - accuracy: 0.3382 - val_loss: 1.8046 - val_accuracy: 0.2311\n",
      "Epoch 9/20\n",
      "14088/14088 [==============================] - 39s 3ms/step - loss: 1.4796 - accuracy: 0.3419 - val_loss: 1.9429 - val_accuracy: 0.1939\n",
      "Epoch 10/20\n",
      "14088/14088 [==============================] - 41s 3ms/step - loss: 1.4744 - accuracy: 0.3455 - val_loss: 1.8109 - val_accuracy: 0.2289\n",
      "Epoch 11/20\n",
      "14088/14088 [==============================] - 40s 3ms/step - loss: 1.4688 - accuracy: 0.3486 - val_loss: 1.8664 - val_accuracy: 0.2033\n",
      "Epoch 12/20\n",
      "14088/14088 [==============================] - 40s 3ms/step - loss: 1.4636 - accuracy: 0.3523 - val_loss: 1.8885 - val_accuracy: 0.2044\n",
      "Epoch 13/20\n",
      "14088/14088 [==============================] - 39s 3ms/step - loss: 1.4597 - accuracy: 0.3561 - val_loss: 2.0025 - val_accuracy: 0.1728\n",
      "Epoch 14/20\n",
      "14088/14088 [==============================] - 38s 3ms/step - loss: 1.4550 - accuracy: 0.3582 - val_loss: 1.7929 - val_accuracy: 0.2472\n",
      "Epoch 15/20\n",
      "14088/14088 [==============================] - 45s 3ms/step - loss: 1.4503 - accuracy: 0.3621 - val_loss: 1.8729 - val_accuracy: 0.2161\n",
      "Epoch 16/20\n",
      "14088/14088 [==============================] - 38s 3ms/step - loss: 1.4462 - accuracy: 0.3631 - val_loss: 1.9462 - val_accuracy: 0.1894\n",
      "Epoch 17/20\n",
      "14088/14088 [==============================] - 37s 3ms/step - loss: 1.4419 - accuracy: 0.3660 - val_loss: 1.9414 - val_accuracy: 0.1967\n",
      "Epoch 18/20\n",
      "14088/14088 [==============================] - 38s 3ms/step - loss: 1.4381 - accuracy: 0.3689 - val_loss: 1.9387 - val_accuracy: 0.1972\n",
      "Epoch 19/20\n",
      "14088/14088 [==============================] - 38s 3ms/step - loss: 1.4345 - accuracy: 0.3702 - val_loss: 1.9428 - val_accuracy: 0.2022\n",
      "Epoch 20/20\n",
      "14088/14088 [==============================] - 39s 3ms/step - loss: 1.4306 - accuracy: 0.3723 - val_loss: 2.0541 - val_accuracy: 0.1711\n",
      "\n",
      "\n",
      "[0 3 3 1 3 4 3 0 2 0 3 1 0 3 3 1 1 0 2 1 0 0 1 1 3 3 3 2 0 1 2 0 0 3 3 1 0\n",
      " 3 2 0]\n",
      "\n",
      "\n",
      "[0 0 0 0 0 0 0 0 0 0 2 2 2 2 2 2 2 2 2 2 0 0 0 0 0 0 0 0 0 0 1 1 1 1 1 1 1\n",
      " 1 1 1]\n",
      "\n",
      "\n",
      "\n",
      "\n",
      "57/57 - 0s - loss: 1.7745 - accuracy: 0.2522\n",
      "\n",
      "\n",
      "0.2522222101688385\n",
      "\n",
      "\n",
      "[0 1 2 3 4]\n",
      "[392 332 219 644 213]\n"
     ]
    },
    {
     "data": {
      "image/png": "[encoded data removed]",
      "text/plain": [
       "<Figure size 432x288 with 1 Axes>"
      ]
     },
     "metadata": {
      "needs_background": "light"
     },
     "output_type": "display_data"
    }
   ],
   "source": [
    "from tensorflow.keras.optimizers import SGD\n",
    "\n",
    "history = model.fit(train_images, train_labels, epochs=20, batch_size = 8,\n",
    "                    validation_data=(val_images, val_labels), shuffle=True)\n",
    "\n",
    "print(\"\\n\")\n",
    "# Predict on the test images\n",
    "predictions = model.predict(test_images)\n",
    "# Print our model's predictions.\n",
    "predicts = np.argmax(predictions, axis=1)\n",
    "print(predicts[0:40]) \n",
    "print(\"\\n\")\n",
    "# Check our predictions against the ground truths.\n",
    "print(test_labels[0:40].flatten())\n",
    "\n",
    "print(\"\\n\")\n",
    "plt.plot(history.history['accuracy'], label='accuracy')\n",
    "plt.plot(history.history['val_accuracy'], label = 'val_accuracy')\n",
    "plt.xlabel('Epoch')\n",
    "plt.ylabel('Accuracy')\n",
    "plt.ylim([0.0, 1])\n",
    "plt.legend(loc='lower right')\n",
    "print(\"\\n\")\n",
    "test_loss, test_acc = model.evaluate(test_images,  test_labels, verbose=2)\n",
    "\n",
    "print(\"\\n\")\n",
    "print(test_acc)\n",
    "print(\"\\n\")\n",
    "\n",
    "# Number of occurences of each class that occur before\n",
    "b = np.unique(predicts,return_counts =1, return_index=1, return_inverse = 1)\n",
    "print(b[0])\n",
    "print(b[3])"
   ]
  },
  {
   "cell_type": "code",
   "execution_count": 8,
   "metadata": {},
   "outputs": [],
   "source": [
    "# Save the model\n",
    "model.save(\"model_arch_9.h5\")"
   ]
  },
  {
   "cell_type": "code",
   "execution_count": 9,
   "metadata": {},
   "outputs": [
    {
     "name": "stdout",
     "output_type": "stream",
     "text": [
      "WARNING:tensorflow:From C:\\Users\\Alkinoos\\anaconda3\\envs\\Project\\lib\\site-packages\\tensorflow\\python\\training\\tracking\\tracking.py:111: Model.state_updates (from tensorflow.python.keras.engine.training) is deprecated and will be removed in a future version.\n",
      "Instructions for updating:\n",
      "This property should not be used in TensorFlow 2.0, as updates are applied automatically.\n",
      "WARNING:tensorflow:From C:\\Users\\Alkinoos\\anaconda3\\envs\\Project\\lib\\site-packages\\tensorflow\\python\\training\\tracking\\tracking.py:111: Layer.updates (from tensorflow.python.keras.engine.base_layer) is deprecated and will be removed in a future version.\n",
      "Instructions for updating:\n",
      "This property should not be used in TensorFlow 2.0, as updates are applied automatically.\n",
      "INFO:tensorflow:Assets written to: C:\\Users\\Alkinoos\\AppData\\Local\\Temp\\tmp0cwakvhc\\assets\n"
     ]
    },
    {
     "data": {
      "text/plain": [
       "39440"
      ]
     },
     "execution_count": 9,
     "metadata": {},
     "output_type": "execute_result"
    }
   ],
   "source": [
    "# TFLite Section\n",
    "\n",
    "\n",
    "tflite_model_name = 'MFCC_9'\n",
    "# Convert Keras model to a tflite model\n",
    "converter = tf.lite.TFLiteConverter.from_keras_model(model)\n",
    "# Convert the model to the TensorFlow Lite format with quantization\n",
    "quantize = True\n",
    "if (quantize):\n",
    "    def representative_dataset():\n",
    "        for i in range(500):\n",
    "            yield([train_images[i].reshape(1,32,32,3).astype('float32')])\n",
    "    # Set the optimization flag.\n",
    "    converter.optimizations = [tf.lite.Optimize.DEFAULT]\n",
    "    # Enforce full-int8 quantization\n",
    "    converter.target_spec.supported_ops = [tf.lite.OpsSet.TFLITE_BUILTINS_INT8]\n",
    "    converter.inference_input_type = tf.int8  # or tf.uint8\n",
    "    converter.inference_output_type = tf.int8  # or tf.uint8\n",
    "    # Provide a representative dataset to ensure we quantize correctly.\n",
    "converter.representative_dataset = representative_dataset\n",
    "tflite_model = converter.convert()\n",
    "\n",
    "open(tflite_model_name + '.tflite', 'wb').write(tflite_model)"
   ]
  },
  {
   "cell_type": "code",
   "execution_count": 10,
   "metadata": {},
   "outputs": [
    {
     "name": "stdout",
     "output_type": "stream",
     "text": [
      "INFO:tensorflow:Assets written to: C:\\Users\\Alkinoos\\AppData\\Local\\Temp\\tmpjoav1uhu\\assets\n"
     ]
    },
    {
     "name": "stderr",
     "output_type": "stream",
     "text": [
      "INFO:tensorflow:Assets written to: C:\\Users\\Alkinoos\\AppData\\Local\\Temp\\tmpjoav1uhu\\assets\n"
     ]
    },
    {
     "data": {
      "text/plain": [
       "39440"
      ]
     },
     "execution_count": 10,
     "metadata": {},
     "output_type": "execute_result"
    }
   ],
   "source": [
    "# TFLite Section\n",
    "\n",
    "\n",
    "tflite_model_name = 'quant_model_9'\n",
    "# Convert Keras model to a tflite model\n",
    "converter = tf.lite.TFLiteConverter.from_keras_model(model)\n",
    "# Convert the model to the TensorFlow Lite format with quantization\n",
    "quantize = True\n",
    "if (quantize):\n",
    "    def representative_dataset():\n",
    "        for i in range(500):\n",
    "            yield([train_images[i].reshape(1,32,32,3).astype('float32')])\n",
    "    # Set the optimization flag.\n",
    "    converter.optimizations = [tf.lite.Optimize.DEFAULT]\n",
    "    # Enforce full-int8 quantization\n",
    "    converter.target_spec.supported_ops = [tf.lite.OpsSet.TFLITE_BUILTINS_INT8]\n",
    "    converter.inference_input_type = tf.int8  # or tf.uint8\n",
    "    converter.inference_output_type = tf.int8  # or tf.uint8\n",
    "    # Provide a representative dataset to ensure we quantize correctly.\n",
    "converter.representative_dataset = representative_dataset\n",
    "tflite_model = converter.convert()\n",
    "\n",
    "open(tflite_model_name + '.tflite', 'wb').write(tflite_model)"
   ]
  },
  {
   "cell_type": "code",
   "execution_count": 11,
   "metadata": {},
   "outputs": [
    {
     "name": "stdout",
     "output_type": "stream",
     "text": [
      "== Input details ==\n",
      "name: conv2d_input\n",
      "shape: [ 1 32 32  3]\n",
      "type: <class 'numpy.int8'>\n",
      "\n",
      "== Output details ==\n",
      "name: Identity\n",
      "shape: [1 5]\n",
      "type: <class 'numpy.int8'>\n"
     ]
    }
   ],
   "source": [
    "# This function here takes in the model and outputs a header file we will import into the TFLite example project folder. (/Core/Inc/)\n",
    "# Function: Convert some hex value into an array for C programming\n",
    "\n",
    "def hex_to_c_array(hex_data, var_name):\n",
    "\n",
    "    c_str = ''\n",
    "\n",
    "    # Create header guard\n",
    "    c_str += '#ifndef ' + var_name.upper() + '_H\\n'\n",
    "    c_str += '#define ' + var_name.upper() + '_H\\n\\n'\n",
    "\n",
    "    # Add array length at top of file\n",
    "    c_str += '\\nunsigned int ' + var_name + '_len = ' + str(len(hex_data)) + ';\\n'\n",
    "\n",
    "    # Declare C variable\n",
    "    c_str += 'unsigned char ' + var_name + '[] = {'\n",
    "    hex_array = []\n",
    "    for i, val in enumerate(hex_data) :\n",
    "\n",
    "        # Construct string from hex\n",
    "        hex_str = format(val, '#04x')\n",
    "\n",
    "        # Add formatting so each line stays within 80 characters\n",
    "        if (i + 1) < len(hex_data):\n",
    "            hex_str += ','\n",
    "        if (i + 1) % 12 == 0:\n",
    "            hex_str += '\\n '\n",
    "        hex_array.append(hex_str)\n",
    "\n",
    "    # Add closing brace\n",
    "    c_str += '\\n ' + format(' '.join(hex_array)) + '\\n};\\n\\n'\n",
    "\n",
    "    # Close out header guard\n",
    "    c_str += '#endif //' + var_name.upper() + '_H'\n",
    "\n",
    "    return c_str\n",
    "\n",
    "\n",
    "c_model_name = 'MFCC_9'\n",
    "# Write TFLite model to a C source (or header) file\n",
    "with open(c_model_name + '.h', 'w') as file:\n",
    "    file.write(hex_to_c_array(tflite_model, c_model_name))\n",
    "    \n",
    "\n",
    "tflite_interpreter = tf.lite.Interpreter(model_path=tflite_model_name + '.tflite')\n",
    "tflite_interpreter.allocate_tensors()\n",
    "input_details = tflite_interpreter.get_input_details()\n",
    "output_details = tflite_interpreter.get_output_details()\n",
    "\n",
    "print(\"== Input details ==\")\n",
    "print(\"name:\", input_details[0]['name'])\n",
    "print(\"shape:\", input_details[0]['shape'])\n",
    "print(\"type:\", input_details[0]['dtype'])\n",
    "\n",
    "print(\"\\n== Output details ==\")\n",
    "print(\"name:\", output_details[0]['name'])\n",
    "print(\"shape:\", output_details[0]['shape'])\n",
    "print(\"type:\", output_details[0]['dtype'])\n",
    "\n"
   ]
  }
 ],
 "metadata": {
  "accelerator": "GPU",
  "colab": {
   "collapsed_sections": [],
   "name": "cnn.ipynb",
   "toc_visible": true
  },
  "kernelspec": {
   "display_name": "Python 3",
   "language": "python",
   "name": "python3"
  },
  "language_info": {
   "codemirror_mode": {
    "name": "ipython",
    "version": 3
   },
   "file_extension": ".py",
   "mimetype": "text/x-python",
   "name": "python",
   "nbconvert_exporter": "python",
   "pygments_lexer": "ipython3",
   "version": "3.8.6"
  }
 },
 "nbformat": 4,
 "nbformat_minor": 1
}
