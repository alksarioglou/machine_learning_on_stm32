{
 "cells": [
  {
   "cell_type": "markdown",
   "metadata": {
    "id": "DSPCom-KmApV"
   },
   "source": [
    "# Complex Convolutional Neural Network (CNN)"
   ]
  },
  {
   "cell_type": "code",
   "execution_count": 2,
   "metadata": {
    "id": "iAve6DCL4JH4"
   },
   "outputs": [],
   "source": [
    "import tensorflow as tf\n",
    "\n",
    "from tensorflow.keras import datasets, layers, models\n",
    "import matplotlib.pyplot as plt\n",
    "\n",
    "import tensorflow as tf\n",
    "\n",
    "from tensorflow.keras import datasets, layers, models\n",
    "import matplotlib.pyplot as plt\n",
    "import numpy as np\n",
    "import os\n",
    "import h5py"
   ]
  },
  {
   "cell_type": "code",
   "execution_count": 2,
   "metadata": {},
   "outputs": [
    {
     "name": "stdout",
     "output_type": "stream",
     "text": [
      "2.5.0-dev20201211\n"
     ]
    }
   ],
   "source": [
    "print(tf.__version__)"
   ]
  },
  {
   "cell_type": "code",
   "execution_count": 5,
   "metadata": {},
   "outputs": [
    {
     "name": "stdout",
     "output_type": "stream",
     "text": [
      "<KeysViewHDF5 ['training_d']>\n",
      "<KeysViewHDF5 ['train_labels_d']>\n"
     ]
    }
   ],
   "source": [
    "# X training\n",
    "f = h5py.File(\"./X_training_serial_balanced.h5\",\"r\")\n",
    "print(f.keys())\n",
    "train_images = f['training_d'][:]\n",
    "f.close()\n",
    "train_images[np.isnan(train_images)] = 0.\n",
    "\n",
    "# Y training\n",
    "f = h5py.File(\"./Y_training_serial_balanced.h5\",\"r\")\n",
    "print(f.keys())\n",
    "train_labels = f['train_labels_d'][:].astype(int)\n",
    "f.close()\n",
    "\n",
    "# X validation\n",
    "f = h5py.File(\"./X_validation.h5\",\"r\")\n",
    "val_images = f['validation'][:]\n",
    "f.close()\n",
    "val_images[np.isnan(val_images)] = 0.\n",
    "\n",
    "# Y validation\n",
    "f = h5py.File(\"./Y_validation.h5\",\"r\")\n",
    "val_labels = f['val_labels'][:].astype(int)\n",
    "f.close()\n",
    "\n",
    "# X testing\n",
    "f = h5py.File(\"./X_testing.h5\",\"r\")\n",
    "test_images = f['testing'][:]\n",
    "f.close()\n",
    "test_images[np.isnan(test_images)] = 0.\n",
    "\n",
    "# Y testing\n",
    "f = h5py.File(\"./Y_testing.h5\",\"r\")\n",
    "test_labels = f['test_labels'][:].astype(int)\n",
    "f.close()\n"
   ]
  },
  {
   "cell_type": "code",
   "execution_count": 5,
   "metadata": {},
   "outputs": [
    {
     "name": "stdout",
     "output_type": "stream",
     "text": [
      "(112700, 32, 32, 3)\n",
      "(112700, 1)\n"
     ]
    }
   ],
   "source": [
    "print(train_images.shape)\n",
    "print(train_labels.shape)"
   ]
  },
  {
   "cell_type": "code",
   "execution_count": 6,
   "metadata": {},
   "outputs": [
    {
     "name": "stdout",
     "output_type": "stream",
     "text": [
      "<class 'numpy.float64'>\n",
      "<class 'numpy.int32'>\n"
     ]
    }
   ],
   "source": [
    "print(type(train_images[0][0][0][0]))\n",
    "\n",
    "print(type(train_labels[0][0]))\n",
    "\n",
    "train_images = train_images.astype('float32')\n",
    "test_images = test_images.astype('float32')\n",
    "val_images = val_images.astype('float32')"
   ]
  },
  {
   "cell_type": "code",
   "execution_count": 25,
   "metadata": {},
   "outputs": [
    {
     "name": "stdout",
     "output_type": "stream",
     "text": [
      "<class 'numpy.float32'>\n"
     ]
    }
   ],
   "source": [
    "print(type(train_images[0][0][0][0]))"
   ]
  },
  {
   "cell_type": "code",
   "execution_count": 7,
   "metadata": {},
   "outputs": [
    {
     "name": "stdout",
     "output_type": "stream",
     "text": [
      "[22540 22540 22540 22540 22540]\n",
      "[[0]\n",
      " [0]\n",
      " [0]\n",
      " [0]\n",
      " [0]\n",
      " [0]\n",
      " [0]\n",
      " [1]\n",
      " [1]\n",
      " [1]]\n"
     ]
    }
   ],
   "source": [
    "# Number of occurences of each class that occur before\n",
    "a = np.unique(train_labels,return_counts =1, return_index=1, return_inverse = 1)\n",
    "print(a[3])\n",
    "\n",
    "print(train_labels[3:13])\n"
   ]
  },
  {
   "cell_type": "markdown",
   "metadata": {
    "id": "jRFxccghyMVo"
   },
   "source": [
    "# Model"
   ]
  },
  {
   "cell_type": "code",
   "execution_count": 10,
   "metadata": {
    "id": "L9YmGQBQPrdn"
   },
   "outputs": [
    {
     "name": "stdout",
     "output_type": "stream",
     "text": [
      "Model: \"sequential_2\"\n",
      "_________________________________________________________________\n",
      "Layer (type)                 Output Shape              Param #   \n",
      "=================================================================\n",
      "conv2d_6 (Conv2D)            (None, 30, 30, 32)        896       \n",
      "_________________________________________________________________\n",
      "max_pooling2d_6 (MaxPooling2 (None, 15, 15, 32)        0         \n",
      "_________________________________________________________________\n",
      "conv2d_7 (Conv2D)            (None, 13, 13, 64)        18496     \n",
      "_________________________________________________________________\n",
      "max_pooling2d_7 (MaxPooling2 (None, 6, 6, 64)          0         \n",
      "_________________________________________________________________\n",
      "conv2d_8 (Conv2D)            (None, 4, 4, 128)         73856     \n",
      "_________________________________________________________________\n",
      "max_pooling2d_8 (MaxPooling2 (None, 2, 2, 128)         0         \n",
      "_________________________________________________________________\n",
      "flatten_2 (Flatten)          (None, 512)               0         \n",
      "_________________________________________________________________\n",
      "dense_2 (Dense)              (None, 5)                 2565      \n",
      "=================================================================\n",
      "Total params: 95,813\n",
      "Trainable params: 95,813\n",
      "Non-trainable params: 0\n",
      "_________________________________________________________________\n"
     ]
    }
   ],
   "source": [
    "# Simple CNN Network\n",
    "\n",
    "\n",
    "model = models.Sequential()\n",
    "model.add(layers.Conv2D(32, (3, 3), activation='relu', input_shape=(32, 32, 3)))\n",
    "model.add(layers.MaxPooling2D((2, 2)))\n",
    "model.add(layers.Conv2D(64, (3, 3), activation='relu'))\n",
    "model.add(layers.MaxPooling2D((2, 2)))\n",
    "model.add(layers.Conv2D(128, (3, 3), activation='relu'))\n",
    "model.add(layers.MaxPooling2D((2, 2)))\n",
    "model.add(layers.Flatten())\n",
    "model.add(layers.Dense(5, activation='softmax'))\n",
    "\n",
    "\n",
    "model.summary()"
   ]
  },
  {
   "cell_type": "code",
   "execution_count": 11,
   "metadata": {
    "id": "MdDzI75PUXrG",
    "scrolled": false
   },
   "outputs": [
    {
     "name": "stdout",
     "output_type": "stream",
     "text": [
      "Epoch 1/20\n"
     ]
    },
    {
     "name": "stderr",
     "output_type": "stream",
     "text": [
      "C:\\Users\\Alkinoos\\anaconda3\\envs\\NEW\\lib\\site-packages\\tensorflow\\python\\keras\\backend.py:5008: UserWarning: \"`sparse_categorical_crossentropy` received `from_logits=True`, but the `output` argument was produced by a sigmoid or softmax activation and thus does not represent logits. Was this intended?\"\n",
      "  '\"`sparse_categorical_crossentropy` received `from_logits=True`, but '\n"
     ]
    },
    {
     "name": "stdout",
     "output_type": "stream",
     "text": [
      "112700/112700 [==============================] - 1012s 9ms/step - loss: 1.5902 - accuracy: 0.2463 - val_loss: 1.6369 - val_accuracy: 0.3222\n",
      "Epoch 2/20\n",
      "112700/112700 [==============================] - 847s 8ms/step - loss: 1.5570 - accuracy: 0.2813 - val_loss: 1.6543 - val_accuracy: 0.2850\n",
      "Epoch 3/20\n",
      "112700/112700 [==============================] - 961s 9ms/step - loss: 1.5435 - accuracy: 0.2905 - val_loss: 1.9214 - val_accuracy: 0.2222\n",
      "Epoch 4/20\n",
      "112700/112700 [==============================] - 1038s 9ms/step - loss: 1.5318 - accuracy: 0.3012 - val_loss: 1.8699 - val_accuracy: 0.1900\n",
      "Epoch 5/20\n",
      "112700/112700 [==============================] - 927s 8ms/step - loss: 1.5220 - accuracy: 0.3094 - val_loss: 2.0521 - val_accuracy: 0.1978\n",
      "Epoch 6/20\n",
      "112700/112700 [==============================] - 994s 9ms/step - loss: 1.5151 - accuracy: 0.3140 - val_loss: 1.9106 - val_accuracy: 0.2228\n",
      "Epoch 7/20\n",
      "112700/112700 [==============================] - 937s 8ms/step - loss: 1.5087 - accuracy: 0.3168 - val_loss: 1.6833 - val_accuracy: 0.3089\n",
      "Epoch 8/20\n",
      "112700/112700 [==============================] - 993s 9ms/step - loss: 1.5034 - accuracy: 0.3185 - val_loss: 1.8850 - val_accuracy: 0.2156\n",
      "Epoch 9/20\n",
      "112700/112700 [==============================] - 1023s 9ms/step - loss: 1.4986 - accuracy: 0.3224 - val_loss: 1.7945 - val_accuracy: 0.2522\n",
      "Epoch 10/20\n",
      "112700/112700 [==============================] - 1110s 10ms/step - loss: 1.4964 - accuracy: 0.3220 - val_loss: 1.8177 - val_accuracy: 0.2528\n",
      "Epoch 11/20\n",
      "112700/112700 [==============================] - 787s 7ms/step - loss: 1.4924 - accuracy: 0.3294 - val_loss: 2.0195 - val_accuracy: 0.1767\n",
      "Epoch 12/20\n",
      "112700/112700 [==============================] - 550s 5ms/step - loss: 1.4907 - accuracy: 0.3303 - val_loss: 1.7451 - val_accuracy: 0.2689\n",
      "Epoch 13/20\n",
      "112700/112700 [==============================] - 897s 8ms/step - loss: 1.4884 - accuracy: 0.3309 - val_loss: 2.2218 - val_accuracy: 0.1922\n",
      "Epoch 14/20\n",
      "112700/112700 [==============================] - 529s 5ms/step - loss: 1.4824 - accuracy: 0.3349 - val_loss: 1.8896 - val_accuracy: 0.2206\n",
      "Epoch 15/20\n",
      "112700/112700 [==============================] - 492s 4ms/step - loss: 1.4778 - accuracy: 0.3346 - val_loss: 2.0358 - val_accuracy: 0.2017\n",
      "Epoch 16/20\n",
      "112700/112700 [==============================] - 484s 4ms/step - loss: 1.4767 - accuracy: 0.3360 - val_loss: 1.8244 - val_accuracy: 0.2461\n",
      "Epoch 17/20\n",
      "112700/112700 [==============================] - 490s 4ms/step - loss: 1.4730 - accuracy: 0.3412 - val_loss: 1.9030 - val_accuracy: 0.2444\n",
      "Epoch 18/20\n",
      "112700/112700 [==============================] - 487s 4ms/step - loss: 1.4698 - accuracy: 0.3404 - val_loss: 1.8293 - val_accuracy: 0.2472\n",
      "Epoch 19/20\n",
      "112700/112700 [==============================] - 539s 5ms/step - loss: 1.4678 - accuracy: 0.3432 - val_loss: 1.9655 - val_accuracy: 0.2311\n",
      "Epoch 20/20\n",
      "112700/112700 [==============================] - 333s 3ms/step - loss: 1.4634 - accuracy: 0.3454 - val_loss: 1.9777 - val_accuracy: 0.1956\n",
      "\n",
      "\n",
      "[0 3 0 0 1 4 3 1 4 4 4 4 3 4 3 4 1 0 4 2 0 0 1 1 4 4 4 3 0 1 4 3 3 3 1 3 3\n",
      " 1 1 1]\n",
      "\n",
      "\n",
      "[0 0 0 0 0 0 0 0 0 0 2 2 2 2 2 2 2 2 2 2 0 0 0 0 0 0 0 0 0 0 1 1 1 1 1 1 1\n",
      " 1 1 1]\n",
      "\n",
      "\n",
      "\n",
      "\n",
      "57/57 - 1s - loss: 1.7893 - accuracy: 0.2550\n",
      "\n",
      "\n",
      "0.2549999952316284\n",
      "\n",
      "\n",
      "[0 1 2 3 4]\n",
      "[403 288  53 681 375]\n"
     ]
    },
    {
     "data": {
      "image/png": "[encoded data removed]",
      "text/plain": [
       "<Figure size 432x288 with 1 Axes>"
      ]
     },
     "metadata": {
      "needs_background": "light"
     },
     "output_type": "display_data"
    }
   ],
   "source": [
    "from tensorflow.keras.optimizers import SGD\n",
    "model.compile(optimizer=SGD(learning_rate=0.01),\n",
    "              loss=tf.keras.losses.SparseCategoricalCrossentropy(from_logits=True),\n",
    "              metrics=['accuracy'])\n",
    "\n",
    "history = model.fit(train_images, train_labels, epochs=20, batch_size = 1,\n",
    "                    validation_data=(val_images, val_labels), shuffle=True)\n",
    "\n",
    "print(\"\\n\")\n",
    "# Predict on the test images\n",
    "predictions = model.predict(test_images)\n",
    "# Print our model's predictions.\n",
    "predicts = np.argmax(predictions, axis=1)\n",
    "print(predicts[0:40]) \n",
    "print(\"\\n\")\n",
    "# Check our predictions against the ground truths.\n",
    "print(test_labels[0:40].flatten())\n",
    "\n",
    "print(\"\\n\")\n",
    "plt.plot(history.history['accuracy'], label='accuracy')\n",
    "plt.plot(history.history['val_accuracy'], label = 'val_accuracy')\n",
    "plt.xlabel('Epoch')\n",
    "plt.ylabel('Accuracy')\n",
    "plt.ylim([0.0, 1])\n",
    "plt.legend(loc='lower right')\n",
    "print(\"\\n\")\n",
    "test_loss, test_acc = model.evaluate(test_images,  test_labels, verbose=2)\n",
    "\n",
    "print(\"\\n\")\n",
    "print(test_acc)\n",
    "print(\"\\n\")\n",
    "\n",
    "# Number of occurences of each class that occur before\n",
    "b = np.unique(predicts,return_counts =1, return_index=1, return_inverse = 1)\n",
    "print(b[0])\n",
    "print(b[3])"
   ]
  },
  {
   "cell_type": "code",
   "execution_count": 12,
   "metadata": {},
   "outputs": [],
   "source": [
    "# Save the model\n",
    "model.save(\"model_arch_4.h5\")"
   ]
  },
  {
   "cell_type": "code",
   "execution_count": 13,
   "metadata": {},
   "outputs": [
    {
     "name": "stdout",
     "output_type": "stream",
     "text": [
      "INFO:tensorflow:Assets written to: C:\\Users\\Alkinoos\\AppData\\Local\\Temp\\tmpuggwupvs\\assets\n"
     ]
    },
    {
     "name": "stderr",
     "output_type": "stream",
     "text": [
      "INFO:tensorflow:Assets written to: C:\\Users\\Alkinoos\\AppData\\Local\\Temp\\tmpuggwupvs\\assets\n"
     ]
    },
    {
     "data": {
      "text/plain": [
       "108016"
      ]
     },
     "execution_count": 13,
     "metadata": {},
     "output_type": "execute_result"
    }
   ],
   "source": [
    "# TFLite Section\n",
    "\n",
    "\n",
    "tflite_model_name = 'MFCC_4'\n",
    "# Convert Keras model to a tflite model\n",
    "converter = tf.lite.TFLiteConverter.from_keras_model(model)\n",
    "# Convert the model to the TensorFlow Lite format with quantization\n",
    "quantize = True\n",
    "if (quantize):\n",
    "    def representative_dataset():\n",
    "        for i in range(500):\n",
    "            yield([train_images[i].reshape(1,32,32,3)])\n",
    "    # Set the optimization flag.\n",
    "    converter.optimizations = [tf.lite.Optimize.DEFAULT]\n",
    "    # Enforce full-int8 quantization\n",
    "    converter.target_spec.supported_ops = [tf.lite.OpsSet.TFLITE_BUILTINS_INT8]\n",
    "    converter.inference_input_type = tf.int8  # or tf.uint8\n",
    "    converter.inference_output_type = tf.int8  # or tf.uint8\n",
    "    # Provide a representative dataset to ensure we quantize correctly.\n",
    "converter.representative_dataset = representative_dataset\n",
    "tflite_model = converter.convert()\n",
    "\n",
    "open(tflite_model_name + '.tflite', 'wb').write(tflite_model)"
   ]
  },
  {
   "cell_type": "code",
   "execution_count": 14,
   "metadata": {},
   "outputs": [
    {
     "name": "stdout",
     "output_type": "stream",
     "text": [
      "INFO:tensorflow:Assets written to: C:\\Users\\Alkinoos\\AppData\\Local\\Temp\\tmpxgmoywq5\\assets\n"
     ]
    },
    {
     "name": "stderr",
     "output_type": "stream",
     "text": [
      "INFO:tensorflow:Assets written to: C:\\Users\\Alkinoos\\AppData\\Local\\Temp\\tmpxgmoywq5\\assets\n"
     ]
    },
    {
     "data": {
      "text/plain": [
       "108016"
      ]
     },
     "execution_count": 14,
     "metadata": {},
     "output_type": "execute_result"
    }
   ],
   "source": [
    "# GAPUINO Section\n",
    "\n",
    "\n",
    "tflite_model_name = 'quant_model_4'\n",
    "# Convert Keras model to a tflite model\n",
    "converter = tf.lite.TFLiteConverter.from_keras_model(model)\n",
    "# Convert the model to the TensorFlow Lite format with quantization\n",
    "quantize = True\n",
    "if (quantize):\n",
    "    def representative_dataset():\n",
    "        for i in range(500):\n",
    "            yield([train_images[i].reshape(1,32,32,3)])\n",
    "    # Set the optimization flag.\n",
    "    converter.optimizations = [tf.lite.Optimize.DEFAULT]\n",
    "    # Enforce full-int8 quantization\n",
    "    converter.target_spec.supported_ops = [tf.lite.OpsSet.TFLITE_BUILTINS_INT8]\n",
    "    converter.inference_input_type = tf.int8  # or tf.uint8\n",
    "    converter.inference_output_type = tf.int8  # or tf.uint8\n",
    "    # Provide a representative dataset to ensure we quantize correctly.\n",
    "converter.representative_dataset = representative_dataset\n",
    "tflite_model = converter.convert()\n",
    "\n",
    "open(tflite_model_name + '.tflite', 'wb').write(tflite_model)"
   ]
  },
  {
   "cell_type": "code",
   "execution_count": 15,
   "metadata": {},
   "outputs": [
    {
     "name": "stdout",
     "output_type": "stream",
     "text": [
      "== Input details ==\n",
      "name: conv2d_6_input_int8\n",
      "shape: [ 1 32 32  3]\n",
      "type: <class 'numpy.int8'>\n",
      "\n",
      "== Output details ==\n",
      "name: Identity_int8\n",
      "shape: [1 5]\n",
      "type: <class 'numpy.int8'>\n"
     ]
    }
   ],
   "source": [
    "# This function here takes in the model and outputs a header file we will import into the TFLite example project folder. (/Core/Inc/)\n",
    "# Function: Convert some hex value into an array for C programming\n",
    "\n",
    "def hex_to_c_array(hex_data, var_name):\n",
    "\n",
    "    c_str = ''\n",
    "\n",
    "    # Create header guard\n",
    "    c_str += '#ifndef ' + var_name.upper() + '_H\\n'\n",
    "    c_str += '#define ' + var_name.upper() + '_H\\n\\n'\n",
    "\n",
    "    # Add array length at top of file\n",
    "    c_str += '\\nunsigned int ' + var_name + '_len = ' + str(len(hex_data)) + ';\\n'\n",
    "\n",
    "    # Declare C variable\n",
    "    c_str += 'unsigned char ' + var_name + '[] = {'\n",
    "    hex_array = []\n",
    "    for i, val in enumerate(hex_data) :\n",
    "\n",
    "        # Construct string from hex\n",
    "        hex_str = format(val, '#04x')\n",
    "\n",
    "        # Add formatting so each line stays within 80 characters\n",
    "        if (i + 1) < len(hex_data):\n",
    "            hex_str += ','\n",
    "        if (i + 1) % 12 == 0:\n",
    "            hex_str += '\\n '\n",
    "        hex_array.append(hex_str)\n",
    "\n",
    "    # Add closing brace\n",
    "    c_str += '\\n ' + format(' '.join(hex_array)) + '\\n};\\n\\n'\n",
    "\n",
    "    # Close out header guard\n",
    "    c_str += '#endif //' + var_name.upper() + '_H'\n",
    "\n",
    "    return c_str\n",
    "\n",
    "\n",
    "c_model_name = 'MFCC_4'\n",
    "# Write TFLite model to a C source (or header) file\n",
    "with open(c_model_name + '.h', 'w') as file:\n",
    "    file.write(hex_to_c_array(tflite_model, c_model_name))\n",
    "    \n",
    "\n",
    "tflite_interpreter = tf.lite.Interpreter(model_path=tflite_model_name + '.tflite')\n",
    "tflite_interpreter.allocate_tensors()\n",
    "input_details = tflite_interpreter.get_input_details()\n",
    "output_details = tflite_interpreter.get_output_details()\n",
    "\n",
    "print(\"== Input details ==\")\n",
    "print(\"name:\", input_details[0]['name'])\n",
    "print(\"shape:\", input_details[0]['shape'])\n",
    "print(\"type:\", input_details[0]['dtype'])\n",
    "\n",
    "print(\"\\n== Output details ==\")\n",
    "print(\"name:\", output_details[0]['name'])\n",
    "print(\"shape:\", output_details[0]['shape'])\n",
    "print(\"type:\", output_details[0]['dtype'])\n",
    "\n"
   ]
  }
 ],
 "metadata": {
  "accelerator": "GPU",
  "colab": {
   "collapsed_sections": [],
   "name": "cnn.ipynb",
   "toc_visible": true
  },
  "kernelspec": {
   "display_name": "Python 3",
   "language": "python",
   "name": "python3"
  },
  "language_info": {
   "codemirror_mode": {
    "name": "ipython",
    "version": 3
   },
   "file_extension": ".py",
   "mimetype": "text/x-python",
   "name": "python",
   "nbconvert_exporter": "python",
   "pygments_lexer": "ipython3",
   "version": "3.7.0"
  }
 },
 "nbformat": 4,
 "nbformat_minor": 1
}
