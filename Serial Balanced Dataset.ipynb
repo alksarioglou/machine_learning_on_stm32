{
 "cells": [
  {
   "cell_type": "code",
   "execution_count": 2,
   "metadata": {},
   "outputs": [],
   "source": [
    "import tensorflow as tf\n",
    "\n",
    "from tensorflow.keras import datasets, layers, models\n",
    "import matplotlib.pyplot as plt\n",
    "import numpy as np\n",
    "import os\n",
    "import h5py\n",
    "\n",
    "# For splitting the dataset to training and validation tests\n",
    "\n",
    "batch_size = 16\n",
    "epochs = 20\n",
    "\n",
    "# X training\n",
    "f = h5py.File(\"./../X_training.h5\",\"r\")\n",
    "train_images = f['training'][:]\n",
    "f.close()\n",
    "train_images[np.isnan(train_images)] = 0.\n",
    "\n",
    "# Y training\n",
    "f = h5py.File(\"./../Y_training.h5\",\"r\")\n",
    "train_labels = f['train_labels'][:].astype(int)\n",
    "f.close()\n",
    "train_labels = train_labels.flatten()\n",
    "\n",
    "# X validation\n",
    "f = h5py.File(\"./../X_validation.h5\",\"r\")\n",
    "val_images = f['validation'][:]\n",
    "f.close()\n",
    "val_images[np.isnan(val_images)] = 0.\n",
    "\n",
    "# Y validation\n",
    "f = h5py.File(\"./../Y_validation.h5\",\"r\")\n",
    "val_labels = f['val_labels'][:].astype(int)\n",
    "f.close()\n",
    "val_labels = val_labels.flatten()\n",
    "\n",
    "# X testing\n",
    "f = h5py.File(\"./../X_validation.h5\",\"r\")\n",
    "test_images = f['validation'][:]\n",
    "f.close()\n",
    "test_images[np.isnan(test_images)] = 0.\n",
    "\n",
    "# Y testing\n",
    "f = h5py.File(\"./../Y_validation.h5\",\"r\")\n",
    "test_labels = f['val_labels'][:].astype(int)\n",
    "f.close()\n",
    "test_labels = test_labels.flatten()\n",
    "\n",
    "\n",
    "class_names = ['Rest', 'MI Left Fist', 'MI Right Fist', 'MI Both Fists', 'MI Both Feet']"
   ]
  },
  {
   "cell_type": "code",
   "execution_count": 2,
   "metadata": {},
   "outputs": [],
   "source": [
    "# X testing\n",
    "f = h5py.File(\"./../X_validation.h5\",\"r\")\n",
    "test_images = f['validation'][:]\n",
    "f.close()\n",
    "test_images[np.isnan(test_images)] = 0.\n",
    "\n",
    "# Y testing\n",
    "f = h5py.File(\"./../Y_validation.h5\",\"r\")\n",
    "test_labels = f['val_labels'][:].astype(int)\n",
    "f.close()\n",
    "test_labels = test_labels.flatten()"
   ]
  },
  {
   "cell_type": "code",
   "execution_count": 3,
   "metadata": {},
   "outputs": [
    {
     "name": "stdout",
     "output_type": "stream",
     "text": [
      "[0. 0. 0. 0. 0. 0. 0. 0. 0. 0. 1. 1. 1. 1. 1. 1. 1. 1. 1. 1. 2. 2. 2. 2.\n",
      " 2. 2. 2. 2. 2. 2. 3. 3. 3. 3. 3. 3. 3. 3. 3. 3. 4. 4. 4. 4. 4. 4. 4. 4.\n",
      " 4. 4.]\n"
     ]
    }
   ],
   "source": [
    "a = np.zeros(50)\n",
    "\n",
    "a[0:10] = 0\n",
    "a[10:20] = 1\n",
    "a[20:30] = 2\n",
    "a[30:40] = 3\n",
    "a[40:50] = 4\n",
    "\n",
    "print(a)"
   ]
  },
  {
   "cell_type": "code",
   "execution_count": 4,
   "metadata": {},
   "outputs": [
    {
     "name": "stdout",
     "output_type": "stream",
     "text": [
      "(900, 1)\n",
      "(230, 1)\n",
      "(220, 1)\n",
      "(210, 1)\n",
      "(240, 1)\n"
     ]
    }
   ],
   "source": [
    "import numpy as np\n",
    "class_0_ind = np.argwhere(test_labels == 0)\n",
    "\n",
    "print(class_0_ind.shape)\n",
    "\n",
    "class_1_ind = np.argwhere(test_labels == 1)\n",
    "\n",
    "print(class_1_ind.shape)\n",
    "\n",
    "class_2_ind = np.argwhere(test_labels == 2)\n",
    "\n",
    "print(class_2_ind.shape)\n",
    "\n",
    "class_3_ind = np.argwhere(test_labels == 3)\n",
    "\n",
    "print(class_3_ind.shape)\n",
    "\n",
    "class_4_ind = np.argwhere(test_labels == 4)\n",
    "\n",
    "print(class_4_ind.shape)"
   ]
  },
  {
   "cell_type": "code",
   "execution_count": 5,
   "metadata": {},
   "outputs": [
    {
     "name": "stdout",
     "output_type": "stream",
     "text": [
      "Done.\n",
      "(900, 32, 32, 3)\n",
      "(900, 1)\n"
     ]
    }
   ],
   "source": [
    "# Separate images and labels of Class 0\n",
    "class_0_im = np.zeros((900,32,32,3))\n",
    "class_0_lab = np.zeros((900,1))\n",
    "n=0\n",
    "for ind in class_0_ind:\n",
    "    class_0_im[n] = test_images[ind]\n",
    "    class_0_lab[n] = test_labels[ind]\n",
    "    n=n+1\n",
    "\n",
    "print(\"Done.\")\n",
    "print(class_0_im.shape)\n",
    "print(class_0_lab.shape)"
   ]
  },
  {
   "cell_type": "code",
   "execution_count": 19,
   "metadata": {},
   "outputs": [
    {
     "name": "stdout",
     "output_type": "stream",
     "text": [
      "Done.\n",
      "(230, 32, 32, 3)\n",
      "(230, 1)\n"
     ]
    }
   ],
   "source": [
    "# Separate images and labels of Class 1\n",
    "class_1_im = np.zeros((230,32,32,3))\n",
    "class_1_lab = np.zeros((230,1))\n",
    "n=0\n",
    "for ind in class_1_ind:\n",
    "    class_1_im[n] = test_images[ind]\n",
    "    class_1_lab[n] = test_labels[ind]\n",
    "    n=n+1\n",
    "\n",
    "print(\"Done.\")\n",
    "print(class_1_im.shape)\n",
    "print(class_1_lab.shape)"
   ]
  },
  {
   "cell_type": "code",
   "execution_count": 20,
   "metadata": {},
   "outputs": [
    {
     "name": "stdout",
     "output_type": "stream",
     "text": [
      "Done.\n",
      "(220, 32, 32, 3)\n",
      "(220, 1)\n"
     ]
    }
   ],
   "source": [
    "# Separate images and labels of Class 2\n",
    "class_2_im = np.zeros((220,32,32,3))\n",
    "class_2_lab = np.zeros((220,1))\n",
    "n=0\n",
    "for ind in class_2_ind:\n",
    "    class_2_im[n] = test_images[ind]\n",
    "    class_2_lab[n] = test_labels[ind]\n",
    "    n=n+1\n",
    "\n",
    "print(\"Done.\")\n",
    "print(class_2_im.shape)\n",
    "print(class_2_lab.shape)"
   ]
  },
  {
   "cell_type": "code",
   "execution_count": 24,
   "metadata": {},
   "outputs": [
    {
     "name": "stdout",
     "output_type": "stream",
     "text": [
      "Done.\n",
      "(210, 32, 32, 3)\n",
      "(210, 1)\n"
     ]
    }
   ],
   "source": [
    "# Separate images and labels of Class 3\n",
    "class_3_im = np.zeros((210,32,32,3))\n",
    "class_3_lab = np.zeros((210,1))\n",
    "n=0\n",
    "for ind in class_3_ind:\n",
    "    class_3_im[n] = test_images[ind]\n",
    "    class_3_lab[n] = test_labels[ind]\n",
    "    n=n+1\n",
    "\n",
    "print(\"Done.\")\n",
    "print(class_3_im.shape)\n",
    "print(class_3_lab.shape)"
   ]
  },
  {
   "cell_type": "code",
   "execution_count": 25,
   "metadata": {},
   "outputs": [
    {
     "name": "stdout",
     "output_type": "stream",
     "text": [
      "Done.\n",
      "(240, 32, 32, 3)\n",
      "(240, 1)\n"
     ]
    }
   ],
   "source": [
    "# Separate images and labels of Class 4\n",
    "class_4_im = np.zeros((240,32,32,3))\n",
    "class_4_lab = np.zeros((240,1))\n",
    "n=0\n",
    "for ind in class_4_ind:\n",
    "    class_4_im[n] = test_images[ind]\n",
    "    class_4_lab[n] = test_labels[ind]\n",
    "    n=n+1\n",
    "\n",
    "print(\"Done.\")\n",
    "print(class_4_im.shape)\n",
    "print(class_4_lab.shape)"
   ]
  },
  {
   "cell_type": "code",
   "execution_count": 26,
   "metadata": {},
   "outputs": [],
   "source": [
    "train_images_balanced = np.zeros((1050,32,32,3))\n",
    "train_labels_balanced = np.zeros((1050,1))\n",
    "n=0\n",
    "\n",
    "# For images\n",
    "for i in range(0,1050,50):\n",
    "    train_images_balanced[i:i+10]    = class_0_im[n:n+10] # Class 0\n",
    "    train_images_balanced[i+10:i+20] = class_1_im[n:n+10] # Class 1\n",
    "    train_images_balanced[i+20:i+30] = class_2_im[n:n+10] # Class 2\n",
    "    train_images_balanced[i+30:i+40] = class_3_im[n:n+10] # Class 3\n",
    "    train_images_balanced[i+40:i+50] = class_4_im[n:n+10] # Class 4\n",
    "    n = n+10\n",
    "\n",
    "k=0\n",
    "# For labels\n",
    "for i in range(0,1050,50):\n",
    "    train_labels_balanced[i:i+10]    = class_0_lab[k:k+10] # Class 0\n",
    "    train_labels_balanced[i+10:i+20] = class_1_lab[k:k+10] # Class 1\n",
    "    train_labels_balanced[i+20:i+30] = class_2_lab[k:k+10] # Class 2\n",
    "    train_labels_balanced[i+30:i+40] = class_3_lab[k:k+10] # Class 3\n",
    "    train_labels_balanced[i+40:i+50] = class_4_lab[k:k+10] # Class 4\n",
    "    k = k+10\n",
    "    "
   ]
  },
  {
   "cell_type": "code",
   "execution_count": 27,
   "metadata": {},
   "outputs": [
    {
     "name": "stdout",
     "output_type": "stream",
     "text": [
      "(1050, 32, 32, 3)\n",
      "(1050, 1)\n"
     ]
    }
   ],
   "source": [
    "print(train_images_balanced.shape)\n",
    "print(train_labels_balanced.shape)"
   ]
  },
  {
   "cell_type": "code",
   "execution_count": 28,
   "metadata": {},
   "outputs": [
    {
     "name": "stdout",
     "output_type": "stream",
     "text": [
      "[[0.]\n",
      " [0.]\n",
      " [0.]\n",
      " [0.]\n",
      " [0.]\n",
      " [0.]\n",
      " [0.]\n",
      " [0.]\n",
      " [0.]\n",
      " [0.]\n",
      " [1.]\n",
      " [1.]\n",
      " [1.]\n",
      " [1.]\n",
      " [1.]\n",
      " [1.]\n",
      " [1.]\n",
      " [1.]\n",
      " [1.]\n",
      " [1.]\n",
      " [2.]\n",
      " [2.]\n",
      " [2.]\n",
      " [2.]\n",
      " [2.]\n",
      " [2.]\n",
      " [2.]\n",
      " [2.]\n",
      " [2.]\n",
      " [2.]\n",
      " [3.]\n",
      " [3.]\n",
      " [3.]\n",
      " [3.]\n",
      " [3.]\n",
      " [3.]\n",
      " [3.]\n",
      " [3.]\n",
      " [3.]\n",
      " [3.]\n",
      " [4.]\n",
      " [4.]\n",
      " [4.]\n",
      " [4.]\n",
      " [4.]\n",
      " [4.]\n",
      " [4.]\n",
      " [4.]\n",
      " [4.]\n",
      " [4.]\n",
      " [0.]\n",
      " [0.]\n",
      " [0.]\n",
      " [0.]\n",
      " [0.]\n",
      " [0.]\n",
      " [0.]\n",
      " [0.]\n",
      " [0.]\n",
      " [0.]\n",
      " [1.]\n",
      " [1.]\n",
      " [1.]\n",
      " [1.]\n",
      " [1.]\n",
      " [1.]\n",
      " [1.]\n",
      " [1.]\n",
      " [1.]\n",
      " [1.]\n",
      " [2.]\n",
      " [2.]\n",
      " [2.]\n",
      " [2.]\n",
      " [2.]\n",
      " [2.]\n",
      " [2.]\n",
      " [2.]\n",
      " [2.]\n",
      " [2.]\n",
      " [3.]\n",
      " [3.]\n",
      " [3.]\n",
      " [3.]\n",
      " [3.]\n",
      " [3.]\n",
      " [3.]\n",
      " [3.]\n",
      " [3.]\n",
      " [3.]\n",
      " [4.]\n",
      " [4.]\n",
      " [4.]\n",
      " [4.]\n",
      " [4.]\n",
      " [4.]\n",
      " [4.]\n",
      " [4.]\n",
      " [4.]\n",
      " [4.]]\n"
     ]
    }
   ],
   "source": [
    "print(train_labels_balanced[0:100])"
   ]
  },
  {
   "cell_type": "code",
   "execution_count": 29,
   "metadata": {},
   "outputs": [],
   "source": [
    "# Balanced Dataset\n",
    "f = h5py.File(\"X_validation_serial_balanced.h5\",\"w\")\n",
    "training_dset = f.create_dataset('training_d', data = train_images_balanced, compression=\"gzip\", compression_opts=0)\n",
    "\n",
    "# Training downsampled labels\n",
    "f = h5py.File(\"Y_validation_serial_balanced.h5\",\"w\")\n",
    "traininglbs_dset = f.create_dataset('train_labels_d', data = train_labels_balanced, compression=\"gzip\", compression_opts=0)"
   ]
  },
  {
   "cell_type": "code",
   "execution_count": 30,
   "metadata": {},
   "outputs": [
    {
     "name": "stdout",
     "output_type": "stream",
     "text": [
      "(1050, 32, 32, 3)\n",
      "(1050, 1)\n",
      "[[0.]\n",
      " [0.]\n",
      " [0.]\n",
      " [0.]\n",
      " [0.]\n",
      " [0.]\n",
      " [0.]\n",
      " [0.]\n",
      " [0.]\n",
      " [0.]\n",
      " [1.]\n",
      " [1.]\n",
      " [1.]\n",
      " [1.]\n",
      " [1.]\n",
      " [1.]\n",
      " [1.]\n",
      " [1.]\n",
      " [1.]\n",
      " [1.]\n",
      " [2.]\n",
      " [2.]\n",
      " [2.]\n",
      " [2.]\n",
      " [2.]\n",
      " [2.]\n",
      " [2.]\n",
      " [2.]\n",
      " [2.]\n",
      " [2.]\n",
      " [3.]\n",
      " [3.]\n",
      " [3.]\n",
      " [3.]\n",
      " [3.]\n",
      " [3.]\n",
      " [3.]\n",
      " [3.]\n",
      " [3.]\n",
      " [3.]\n",
      " [4.]\n",
      " [4.]\n",
      " [4.]\n",
      " [4.]\n",
      " [4.]\n",
      " [4.]\n",
      " [4.]\n",
      " [4.]\n",
      " [4.]\n",
      " [4.]\n",
      " [0.]\n",
      " [0.]\n",
      " [0.]\n",
      " [0.]\n",
      " [0.]\n",
      " [0.]\n",
      " [0.]\n",
      " [0.]\n",
      " [0.]\n",
      " [0.]\n",
      " [1.]\n",
      " [1.]\n",
      " [1.]\n",
      " [1.]\n",
      " [1.]\n",
      " [1.]\n",
      " [1.]\n",
      " [1.]\n",
      " [1.]\n",
      " [1.]\n",
      " [2.]\n",
      " [2.]\n",
      " [2.]\n",
      " [2.]\n",
      " [2.]\n",
      " [2.]\n",
      " [2.]\n",
      " [2.]\n",
      " [2.]\n",
      " [2.]\n",
      " [3.]\n",
      " [3.]\n",
      " [3.]\n",
      " [3.]\n",
      " [3.]\n",
      " [3.]\n",
      " [3.]\n",
      " [3.]\n",
      " [3.]\n",
      " [3.]\n",
      " [4.]\n",
      " [4.]\n",
      " [4.]\n",
      " [4.]\n",
      " [4.]\n",
      " [4.]\n",
      " [4.]\n",
      " [4.]\n",
      " [4.]\n",
      " [4.]]\n"
     ]
    }
   ],
   "source": [
    "# Read labels and images\n",
    "h5f = h5py.File('X_validation_serial_balanced.h5','r')\n",
    "images = h5f['training_d'][:]\n",
    "h5f.close()\n",
    "\n",
    "h5f = h5py.File('Y_validation_serial_balanced.h5','r')\n",
    "labels = h5f['train_labels_d'][:]\n",
    "h5f.close()\n",
    "\n",
    "print(images.shape)\n",
    "print(labels.shape)\n",
    "\n",
    "print(labels[0:100])"
   ]
  },
  {
   "cell_type": "code",
   "execution_count": 2,
   "metadata": {},
   "outputs": [
    {
     "name": "stdout",
     "output_type": "stream",
     "text": [
      "(183600, 32, 32, 3)\n",
      "(183600,)\n",
      "(1800, 32, 32, 3)\n",
      "(1800,)\n",
      "(1800, 32, 32, 3)\n",
      "(1800,)\n"
     ]
    }
   ],
   "source": [
    "print(train_images.shape)\n",
    "print(train_labels.shape)\n",
    "\n",
    "print(val_images.shape)\n",
    "print(val_labels.shape)\n",
    "\n",
    "print(test_images.shape)\n",
    "print(test_labels.shape)"
   ]
  },
  {
   "cell_type": "code",
   "execution_count": 57,
   "metadata": {},
   "outputs": [
    {
     "name": "stdout",
     "output_type": "stream",
     "text": [
      "[[[0. 0. 0.]\n",
      "  [0. 0. 0.]\n",
      "  [0. 0. 0.]\n",
      "  ...\n",
      "  [0. 0. 0.]\n",
      "  [0. 0. 0.]\n",
      "  [0. 0. 0.]]\n",
      "\n",
      " [[0. 0. 0.]\n",
      "  [0. 0. 0.]\n",
      "  [0. 0. 0.]\n",
      "  ...\n",
      "  [0. 0. 0.]\n",
      "  [0. 0. 0.]\n",
      "  [0. 0. 0.]]\n",
      "\n",
      " [[0. 0. 0.]\n",
      "  [0. 0. 0.]\n",
      "  [0. 0. 0.]\n",
      "  ...\n",
      "  [0. 0. 0.]\n",
      "  [0. 0. 0.]\n",
      "  [0. 0. 0.]]\n",
      "\n",
      " ...\n",
      "\n",
      " [[0. 0. 0.]\n",
      "  [0. 0. 0.]\n",
      "  [0. 0. 0.]\n",
      "  ...\n",
      "  [0. 0. 0.]\n",
      "  [0. 0. 0.]\n",
      "  [0. 0. 0.]]\n",
      "\n",
      " [[0. 0. 0.]\n",
      "  [0. 0. 0.]\n",
      "  [0. 0. 0.]\n",
      "  ...\n",
      "  [0. 0. 0.]\n",
      "  [0. 0. 0.]\n",
      "  [0. 0. 0.]]\n",
      "\n",
      " [[0. 0. 0.]\n",
      "  [0. 0. 0.]\n",
      "  [0. 0. 0.]\n",
      "  ...\n",
      "  [0. 0. 0.]\n",
      "  [0. 0. 0.]\n",
      "  [0. 0. 0.]]]\n",
      "[[[0. 0. 0.]\n",
      "  [0. 0. 0.]\n",
      "  [0. 0. 0.]\n",
      "  ...\n",
      "  [0. 0. 0.]\n",
      "  [0. 0. 0.]\n",
      "  [0. 0. 0.]]\n",
      "\n",
      " [[0. 0. 0.]\n",
      "  [0. 0. 0.]\n",
      "  [0. 0. 0.]\n",
      "  ...\n",
      "  [0. 0. 0.]\n",
      "  [0. 0. 0.]\n",
      "  [0. 0. 0.]]\n",
      "\n",
      " [[0. 0. 0.]\n",
      "  [0. 0. 0.]\n",
      "  [0. 0. 0.]\n",
      "  ...\n",
      "  [0. 0. 0.]\n",
      "  [0. 0. 0.]\n",
      "  [0. 0. 0.]]\n",
      "\n",
      " ...\n",
      "\n",
      " [[0. 0. 0.]\n",
      "  [0. 0. 0.]\n",
      "  [0. 0. 0.]\n",
      "  ...\n",
      "  [0. 0. 0.]\n",
      "  [0. 0. 0.]\n",
      "  [0. 0. 0.]]\n",
      "\n",
      " [[0. 0. 0.]\n",
      "  [0. 0. 0.]\n",
      "  [0. 0. 0.]\n",
      "  ...\n",
      "  [0. 0. 0.]\n",
      "  [0. 0. 0.]\n",
      "  [0. 0. 0.]]\n",
      "\n",
      " [[0. 0. 0.]\n",
      "  [0. 0. 0.]\n",
      "  [0. 0. 0.]\n",
      "  ...\n",
      "  [0. 0. 0.]\n",
      "  [0. 0. 0.]\n",
      "  [0. 0. 0.]]]\n",
      "[[[0. 0. 0.]\n",
      "  [0. 0. 0.]\n",
      "  [0. 0. 0.]\n",
      "  ...\n",
      "  [0. 0. 0.]\n",
      "  [0. 0. 0.]\n",
      "  [0. 0. 0.]]\n",
      "\n",
      " [[0. 0. 0.]\n",
      "  [0. 0. 0.]\n",
      "  [0. 0. 0.]\n",
      "  ...\n",
      "  [0. 0. 0.]\n",
      "  [0. 0. 0.]\n",
      "  [0. 0. 0.]]\n",
      "\n",
      " [[0. 0. 0.]\n",
      "  [0. 0. 0.]\n",
      "  [0. 0. 0.]\n",
      "  ...\n",
      "  [0. 0. 0.]\n",
      "  [0. 0. 0.]\n",
      "  [0. 0. 0.]]\n",
      "\n",
      " ...\n",
      "\n",
      " [[0. 0. 0.]\n",
      "  [0. 0. 0.]\n",
      "  [0. 0. 0.]\n",
      "  ...\n",
      "  [0. 0. 0.]\n",
      "  [0. 0. 0.]\n",
      "  [0. 0. 0.]]\n",
      "\n",
      " [[0. 0. 0.]\n",
      "  [0. 0. 0.]\n",
      "  [0. 0. 0.]\n",
      "  ...\n",
      "  [0. 0. 0.]\n",
      "  [0. 0. 0.]\n",
      "  [0. 0. 0.]]\n",
      "\n",
      " [[0. 0. 0.]\n",
      "  [0. 0. 0.]\n",
      "  [0. 0. 0.]\n",
      "  ...\n",
      "  [0. 0. 0.]\n",
      "  [0. 0. 0.]\n",
      "  [0. 0. 0.]]]\n"
     ]
    }
   ],
   "source": [
    "print(train_images[0])\n",
    "print(test_images[0])\n",
    "print(val_images[0])"
   ]
  },
  {
   "cell_type": "code",
   "execution_count": 58,
   "metadata": {},
   "outputs": [
    {
     "name": "stdout",
     "output_type": "stream",
     "text": [
      "[0. 0. 0. ... 3. 3. 3.]\n",
      "[0. 0. 0. ... 3. 3. 3.]\n",
      "[0. 0. 0. ... 4. 4. 4.]\n"
     ]
    }
   ],
   "source": [
    "print(train_labels)\n",
    "print(test_labels)\n",
    "print(val_labels)"
   ]
  },
  {
   "cell_type": "code",
   "execution_count": 59,
   "metadata": {},
   "outputs": [],
   "source": [
    "# Reshape the input array\n",
    "train_images2 = train_images.reshape((3600,1,32,32,3))\n",
    "val_images2 = val_images.reshape((1800,1,32,32,3))\n",
    "test_images2 = test_images.reshape((1800,1,32,32,3))\n",
    "\n",
    "train_labels2 = train_labels[0::1]\n",
    "val_labels2 = val_labels[0::1]\n",
    "test_labels2 = test_labels[0::1]\n",
    "\n",
    "#from sklearn.model_selection import train_test_split\n",
    "train_images, test_images, train_labels, test_labels = train_test_split(train_images2,train_labels2,random_state=82, test_size=1800)"
   ]
  },
  {
   "cell_type": "code",
   "execution_count": 60,
   "metadata": {},
   "outputs": [
    {
     "name": "stdout",
     "output_type": "stream",
     "text": [
      "(1800, 1, 32, 32, 3)\n",
      "(1800,)\n",
      "[0. 1. 0. 0. 0. 1. 2. 0. 3. 0. 0. 4. 0. 0. 1. 2. 4. 0. 0. 3.]\n",
      "[0. 2. 0. 3. 0. 3. 0. 0. 3. 0. 1. 2. 2. 4. 0. 3. 2. 1. 0. 0.]\n"
     ]
    }
   ],
   "source": [
    "print(train_images.shape)\n",
    "print(test_labels.shape)\n",
    "\n",
    "print(train_labels[0:20])\n",
    "print(test_labels[0:20])"
   ]
  },
  {
   "cell_type": "code",
   "execution_count": 61,
   "metadata": {},
   "outputs": [
    {
     "name": "stdout",
     "output_type": "stream",
     "text": [
      "(None, 1, 30, 30, 32)\n",
      "(None, 1, 15, 15, 32)\n",
      "(None, 1, 13, 13, 64)\n",
      "(None, 1, 6, 6, 64)\n",
      "(None, 1, 4, 4, 64)\n",
      "(None, 1, 1024)\n",
      "(None, 128)\n",
      "(None, 5)\n",
      "(None, 5)\n"
     ]
    }
   ],
   "source": [
    "# MODEL EFFORT 4: Time distributed Layers\n",
    "from keras.layers import TimeDistributed\n",
    "\n",
    "model = models.Sequential()\n",
    "\n",
    "model.add(TimeDistributed(layers.Conv2D(32, (3, 3), activation='relu'), input_shape=(32, 32, 3)))\n",
    "print(model.output_shape)\n",
    "model.add(TimeDistributed(layers.MaxPooling2D((2, 2))))\n",
    "print(model.output_shape)\n",
    "#model.add(TimeDistributed(layers.Conv2D(32, (3, 3), activation='relu')))\n",
    "#print(model.output_shape)\n",
    "model.add(TimeDistributed(layers.Conv2D(64, (3, 3), activation='relu')))\n",
    "print(model.output_shape)\n",
    "model.add(TimeDistributed(layers.MaxPooling2D((2, 2))))\n",
    "print(model.output_shape)\n",
    "model.add(TimeDistributed(layers.Conv2D(64, (3, 3), activation='relu')))\n",
    "print(model.output_shape)\n",
    "#model.add(TimeDistributed(layers.MaxPooling2D((2, 2))))\n",
    "#print(model.output_shape)\n",
    "#model.add(TimeDistributed(layers.Conv2D(128, (3, 3), activation='relu')))\n",
    "#print(model.output_shape)\n",
    "#model.add(TimeDistributed(layers.MaxPooling2D(2, 2)))\n",
    "#print(model.output_shape)\n",
    "#model.add(TimeDistributed(layers.Conv2D(256, (3, 3), activation='relu')))\n",
    "#print(model.output_shape)\n",
    "\n",
    "# FLatten Layer\n",
    "#model.add(TimeDistributed(layers.ReLU()))\n",
    "#print(model.output_shape)\n",
    "#model.add(TimeDistributed(layers.MaxPooling2D(2, 2)))\n",
    "#print(model.output_shape)\n",
    "model.add(TimeDistributed(layers.Flatten()))\n",
    "print(model.output_shape)\n",
    "\n",
    "# LSTM Layer\n",
    "model.add(layers.LSTM(128))\n",
    "print(model.output_shape)\n",
    "# Dense Layer\n",
    "model.add(layers.Dense(128, activation='relu'))\n",
    "model.add(layers.Dense(64, activation='relu'))\n",
    "model.add(layers.Dense(5, activation='softmax'))\n",
    "print(model.output_shape)\n",
    "model.add(layers.Softmax())\n",
    "print(model.output_shape)"
   ]
  },
  {
   "cell_type": "code",
   "execution_count": 62,
   "metadata": {},
   "outputs": [
    {
     "name": "stdout",
     "output_type": "stream",
     "text": [
      "Model: \"sequential_6\"\n",
      "_________________________________________________________________\n",
      "Layer (type)                 Output Shape              Param #   \n",
      "=================================================================\n",
      "time_distributed_36 (TimeDis (None, 1, 30, 30, 32)     896       \n",
      "_________________________________________________________________\n",
      "time_distributed_37 (TimeDis (None, 1, 15, 15, 32)     0         \n",
      "_________________________________________________________________\n",
      "time_distributed_38 (TimeDis (None, 1, 13, 13, 64)     18496     \n",
      "_________________________________________________________________\n",
      "time_distributed_39 (TimeDis (None, 1, 6, 6, 64)       0         \n",
      "_________________________________________________________________\n",
      "time_distributed_40 (TimeDis (None, 1, 4, 4, 64)       36928     \n",
      "_________________________________________________________________\n",
      "time_distributed_41 (TimeDis (None, 1, 1024)           0         \n",
      "_________________________________________________________________\n",
      "lstm_6 (LSTM)                (None, 128)               590336    \n",
      "_________________________________________________________________\n",
      "dense_18 (Dense)             (None, 128)               16512     \n",
      "_________________________________________________________________\n",
      "dense_19 (Dense)             (None, 64)                8256      \n",
      "_________________________________________________________________\n",
      "dense_20 (Dense)             (None, 5)                 325       \n",
      "_________________________________________________________________\n",
      "softmax_6 (Softmax)          (None, 5)                 0         \n",
      "=================================================================\n",
      "Total params: 671,749\n",
      "Trainable params: 671,749\n",
      "Non-trainable params: 0\n",
      "_________________________________________________________________\n"
     ]
    }
   ],
   "source": [
    "model.summary()"
   ]
  },
  {
   "cell_type": "code",
   "execution_count": 63,
   "metadata": {},
   "outputs": [
    {
     "name": "stdout",
     "output_type": "stream",
     "text": [
      "1800/1800 [==============================] - 8s 4ms/step - loss: 1.6010 - accuracy: 0.4853 - val_loss: 1.5912 - val_accuracy: 0.5000\n"
     ]
    }
   ],
   "source": [
    "from keras.optimizers import SGD\n",
    "model.compile(optimizer=(SGD(lr=0.001)),\n",
    "              loss=tf.keras.losses.SparseCategoricalCrossentropy(from_logits=False),\n",
    "              metrics=['accuracy'])\n",
    "\n",
    "history = model.fit(x=train_images2, y=train_labels2, batch_size=2, epochs=1, \n",
    "                    validation_data=(test_images2, test_labels2),shuffle=True)"
   ]
  },
  {
   "cell_type": "code",
   "execution_count": 64,
   "metadata": {},
   "outputs": [
    {
     "name": "stdout",
     "output_type": "stream",
     "text": [
      "57/57 - 0s - loss: 1.5912 - accuracy: 0.5000\n",
      "0.5\n"
     ]
    },
    {
     "data": {
      "image/png": "[encoded data removed]",
      "text/plain": [
       "<Figure size 432x288 with 1 Axes>"
      ]
     },
     "metadata": {
      "needs_background": "light"
     },
     "output_type": "display_data"
    }
   ],
   "source": [
    "plt.plot(history.history['accuracy'], label='accuracy')\n",
    "plt.plot(history.history['val_accuracy'], label = 'val_accuracy')\n",
    "plt.xlabel('Epoch')\n",
    "plt.ylabel('Accuracy')\n",
    "plt.ylim([0.5, 1])\n",
    "plt.legend(loc='lower right')\n",
    "\n",
    "# Accuracy on validation data\n",
    "val_loss, val_acc = model.evaluate(val_images2,  val_labels2, verbose=2)\n",
    "print(val_acc)"
   ]
  },
  {
   "cell_type": "code",
   "execution_count": 65,
   "metadata": {},
   "outputs": [
    {
     "name": "stdout",
     "output_type": "stream",
     "text": [
      "57/57 - 0s - loss: 1.5912 - accuracy: 0.5000\n",
      "0.5\n",
      "1.5911566019058228\n"
     ]
    }
   ],
   "source": [
    "# Accuracy on test data\n",
    "test_loss, test_acc = model.evaluate(test_images2,  test_labels2, verbose=2)\n",
    "print(test_acc)\n",
    "print(test_loss)"
   ]
  },
  {
   "cell_type": "code",
   "execution_count": 66,
   "metadata": {},
   "outputs": [
    {
     "name": "stdout",
     "output_type": "stream",
     "text": [
      "(1800,)\n",
      "[0]\n",
      "[0. 2. 0. ... 0. 1. 0.]\n"
     ]
    }
   ],
   "source": [
    "# Predict on the test images\n",
    "predictions = model.predict(test_images2)\n",
    "\n",
    "# Print our model's predictions.\n",
    "a = np.argmax(predictions, axis=1)\n",
    "print(a.shape)\n",
    "print(np.unique(a))\n",
    "#print(np.argmax(predictions, axis=1)) \n",
    "\n",
    "# Check our predictions against the ground truths.\n",
    "print(test_labels)"
   ]
  },
  {
   "cell_type": "code",
   "execution_count": 10,
   "metadata": {},
   "outputs": [],
   "source": [
    "# Save the model\n",
    "model.save(\"model.h5\")"
   ]
  },
  {
   "cell_type": "code",
   "execution_count": 11,
   "metadata": {},
   "outputs": [
    {
     "ename": "AttributeError",
     "evalue": "'str' object has no attribute 'decode'",
     "output_type": "error",
     "traceback": [
      "\u001b[1;31m---------------------------------------------------------------------------\u001b[0m",
      "\u001b[1;31mAttributeError\u001b[0m                            Traceback (most recent call last)",
      "\u001b[1;32m<ipython-input-11-74b7a262d874>\u001b[0m in \u001b[0;36m<module>\u001b[1;34m()\u001b[0m\n\u001b[1;32m----> 1\u001b[1;33m \u001b[0mloaded_model\u001b[0m \u001b[1;33m=\u001b[0m \u001b[0mmodels\u001b[0m\u001b[1;33m.\u001b[0m\u001b[0mload_model\u001b[0m\u001b[1;33m(\u001b[0m\u001b[1;34m\"model.h5\"\u001b[0m\u001b[1;33m)\u001b[0m\u001b[1;33m\u001b[0m\u001b[1;33m\u001b[0m\u001b[0m\n\u001b[0m",
      "\u001b[1;32mC:\\Users\\Alkinoos\\anaconda3\\envs\\Labs_best\\lib\\site-packages\\tensorflow\\python\\keras\\saving\\save.py\u001b[0m in \u001b[0;36mload_model\u001b[1;34m(filepath, custom_objects, compile, options)\u001b[0m\n\u001b[0;32m    180\u001b[0m     if (h5py is not None and (\n\u001b[0;32m    181\u001b[0m         isinstance(filepath, h5py.File) or h5py.is_hdf5(filepath))):\n\u001b[1;32m--> 182\u001b[1;33m       \u001b[1;32mreturn\u001b[0m \u001b[0mhdf5_format\u001b[0m\u001b[1;33m.\u001b[0m\u001b[0mload_model_from_hdf5\u001b[0m\u001b[1;33m(\u001b[0m\u001b[0mfilepath\u001b[0m\u001b[1;33m,\u001b[0m \u001b[0mcustom_objects\u001b[0m\u001b[1;33m,\u001b[0m \u001b[0mcompile\u001b[0m\u001b[1;33m)\u001b[0m\u001b[1;33m\u001b[0m\u001b[1;33m\u001b[0m\u001b[0m\n\u001b[0m\u001b[0;32m    183\u001b[0m \u001b[1;33m\u001b[0m\u001b[0m\n\u001b[0;32m    184\u001b[0m     \u001b[0mfilepath\u001b[0m \u001b[1;33m=\u001b[0m \u001b[0mpath_to_string\u001b[0m\u001b[1;33m(\u001b[0m\u001b[0mfilepath\u001b[0m\u001b[1;33m)\u001b[0m\u001b[1;33m\u001b[0m\u001b[1;33m\u001b[0m\u001b[0m\n",
      "\u001b[1;32mC:\\Users\\Alkinoos\\anaconda3\\envs\\Labs_best\\lib\\site-packages\\tensorflow\\python\\keras\\saving\\hdf5_format.py\u001b[0m in \u001b[0;36mload_model_from_hdf5\u001b[1;34m(filepath, custom_objects, compile)\u001b[0m\n\u001b[0;32m    174\u001b[0m     \u001b[1;32mif\u001b[0m \u001b[0mmodel_config\u001b[0m \u001b[1;32mis\u001b[0m \u001b[1;32mNone\u001b[0m\u001b[1;33m:\u001b[0m\u001b[1;33m\u001b[0m\u001b[1;33m\u001b[0m\u001b[0m\n\u001b[0;32m    175\u001b[0m       \u001b[1;32mraise\u001b[0m \u001b[0mValueError\u001b[0m\u001b[1;33m(\u001b[0m\u001b[1;34m'No model found in config file.'\u001b[0m\u001b[1;33m)\u001b[0m\u001b[1;33m\u001b[0m\u001b[1;33m\u001b[0m\u001b[0m\n\u001b[1;32m--> 176\u001b[1;33m     \u001b[0mmodel_config\u001b[0m \u001b[1;33m=\u001b[0m \u001b[0mjson\u001b[0m\u001b[1;33m.\u001b[0m\u001b[0mloads\u001b[0m\u001b[1;33m(\u001b[0m\u001b[0mmodel_config\u001b[0m\u001b[1;33m.\u001b[0m\u001b[0mdecode\u001b[0m\u001b[1;33m(\u001b[0m\u001b[1;34m'utf-8'\u001b[0m\u001b[1;33m)\u001b[0m\u001b[1;33m)\u001b[0m\u001b[1;33m\u001b[0m\u001b[1;33m\u001b[0m\u001b[0m\n\u001b[0m\u001b[0;32m    177\u001b[0m     model = model_config_lib.model_from_config(model_config,\n\u001b[0;32m    178\u001b[0m                                                custom_objects=custom_objects)\n",
      "\u001b[1;31mAttributeError\u001b[0m: 'str' object has no attribute 'decode'"
     ]
    }
   ],
   "source": [
    "loaded_model = models.load_model(\"model.h5\")"
   ]
  },
  {
   "cell_type": "code",
   "execution_count": 18,
   "metadata": {},
   "outputs": [
    {
     "name": "stdout",
     "output_type": "stream",
     "text": [
      "WARNING:tensorflow:From C:\\Users\\Alkinoos\\anaconda3\\envs\\Labs_best\\lib\\site-packages\\tensorflow\\python\\training\\tracking\\tracking.py:111: Model.state_updates (from tensorflow.python.keras.engine.training) is deprecated and will be removed in a future version.\n",
      "Instructions for updating:\n",
      "This property should not be used in TensorFlow 2.0, as updates are applied automatically.\n",
      "WARNING:tensorflow:From C:\\Users\\Alkinoos\\anaconda3\\envs\\Labs_best\\lib\\site-packages\\tensorflow\\python\\training\\tracking\\tracking.py:111: Layer.updates (from tensorflow.python.keras.engine.base_layer) is deprecated and will be removed in a future version.\n",
      "Instructions for updating:\n",
      "This property should not be used in TensorFlow 2.0, as updates are applied automatically.\n",
      "INFO:tensorflow:Assets written to: C:\\Users\\Alkinoos\\AppData\\Local\\Temp\\tmpvi70k58g\\assets\n"
     ]
    },
    {
     "data": {
      "text/plain": [
       "8048"
      ]
     },
     "execution_count": 18,
     "metadata": {},
     "output_type": "execute_result"
    }
   ],
   "source": [
    "# TFLite Section\n",
    "\n",
    "\n",
    "tflite_model_name = 'MFCC'\n",
    "# Convert Keras model to a tflite model\n",
    "converter = tf.lite.TFLiteConverter.from_keras_model(model)\n",
    "# Convert the model to the TensorFlow Lite format with quantization\n",
    "quantize = True\n",
    "if (quantize):\n",
    "    def representative_dataset():\n",
    "        for i in range(500):\n",
    "            yield([train_images[i].reshape(1,32,32,3)])\n",
    "    # Set the optimization flag.\n",
    "    converter.optimizations = [tf.lite.Optimize.DEFAULT]\n",
    "    # Enforce full-int8 quantization\n",
    "    converter.target_spec.supported_ops = [tf.lite.OpsSet.TFLITE_BUILTINS_INT8]\n",
    "    converter.inference_input_type = tf.int8  # or tf.uint8\n",
    "    converter.inference_output_type = tf.int8  # or tf.uint8\n",
    "    # Provide a representative dataset to ensure we quantize correctly.\n",
    "converter.representative_dataset = representative_dataset\n",
    "tflite_model = converter.convert()\n",
    "\n",
    "open(tflite_model_name + '.tflite', 'wb').write(tflite_model)"
   ]
  },
  {
   "cell_type": "code",
   "execution_count": 19,
   "metadata": {},
   "outputs": [],
   "source": [
    "# This function here takes in the model and outputs a header file we will import into the TFLite example project folder. (/Core/Inc/)\n",
    "# Function: Convert some hex value into an array for C programming\n",
    "\n",
    "def hex_to_c_array(hex_data, var_name):\n",
    "\n",
    "    c_str = ''\n",
    "\n",
    "    # Create header guard\n",
    "    c_str += '#ifndef ' + var_name.upper() + '_H\\n'\n",
    "    c_str += '#define ' + var_name.upper() + '_H\\n\\n'\n",
    "\n",
    "    # Add array length at top of file\n",
    "    c_str += '\\nunsigned int ' + var_name + '_len = ' + str(len(hex_data)) + ';\\n'\n",
    "\n",
    "    # Declare C variable\n",
    "    c_str += 'unsigned char ' + var_name + '[] = {'\n",
    "    hex_array = []\n",
    "    for i, val in enumerate(hex_data) :\n",
    "\n",
    "        # Construct string from hex\n",
    "        hex_str = format(val, '#04x')\n",
    "\n",
    "        # Add formatting so each line stays within 80 characters\n",
    "        if (i + 1) < len(hex_data):\n",
    "            hex_str += ','\n",
    "        if (i + 1) % 12 == 0:\n",
    "            hex_str += '\\n '\n",
    "        hex_array.append(hex_str)\n",
    "\n",
    "    # Add closing brace\n",
    "    c_str += '\\n ' + format(' '.join(hex_array)) + '\\n};\\n\\n'\n",
    "\n",
    "    # Close out header guard\n",
    "    c_str += '#endif //' + var_name.upper() + '_H'\n",
    "\n",
    "    return c_str"
   ]
  },
  {
   "cell_type": "code",
   "execution_count": 20,
   "metadata": {},
   "outputs": [],
   "source": [
    "c_model_name = 'MFCC'\n",
    "# Write TFLite model to a C source (or header) file\n",
    "with open(c_model_name + '.h', 'w') as file:\n",
    "    file.write(hex_to_c_array(tflite_model, c_model_name))"
   ]
  },
  {
   "cell_type": "code",
   "execution_count": 21,
   "metadata": {},
   "outputs": [
    {
     "name": "stdout",
     "output_type": "stream",
     "text": [
      "== Input details ==\n",
      "name: conv2d_input\n",
      "shape: [ 1 32 32  3]\n",
      "type: <class 'numpy.int8'>\n",
      "\n",
      "== Output details ==\n",
      "name: Identity\n",
      "shape: [1 5]\n",
      "type: <class 'numpy.int8'>\n"
     ]
    }
   ],
   "source": [
    "tflite_interpreter = tf.lite.Interpreter(model_path=tflite_model_name + '.tflite')\n",
    "tflite_interpreter.allocate_tensors()\n",
    "input_details = tflite_interpreter.get_input_details()\n",
    "output_details = tflite_interpreter.get_output_details()\n",
    "\n",
    "print(\"== Input details ==\")\n",
    "print(\"name:\", input_details[0]['name'])\n",
    "print(\"shape:\", input_details[0]['shape'])\n",
    "print(\"type:\", input_details[0]['dtype'])\n",
    "\n",
    "print(\"\\n== Output details ==\")\n",
    "print(\"name:\", output_details[0]['name'])\n",
    "print(\"shape:\", output_details[0]['shape'])\n",
    "print(\"type:\", output_details[0]['dtype'])"
   ]
  },
  {
   "cell_type": "code",
   "execution_count": 22,
   "metadata": {},
   "outputs": [],
   "source": [
    "# Performance of network\n",
    "\n",
    "predictions = np.zeros((len(test_images),), dtype=int)\n",
    "input_scale, input_zero_point = input_details[0][\"quantization\"]\n",
    "for i in range(len(test_images)):\n",
    "    val_batch = test_images[i]\n",
    "    #We must convert the data into int8 format before invoking inference.\n",
    "    val_batch = val_batch / input_scale + input_zero_point\n",
    "    val_batch = np.expand_dims(val_batch, axis=0).astype(input_details[0][\"dtype\"])\n",
    "    tflite_interpreter.set_tensor(input_details[0]['index'], val_batch)\n",
    "    tflite_interpreter.allocate_tensors()\n",
    "    tflite_interpreter.invoke()\n",
    "\n",
    "    tflite_model_predictions = tflite_interpreter.get_tensor(output_details[0]['index'])\n",
    "    #print(\"Prediction results shape:\", tflite_model_predictions.shape)\n",
    "    output = tflite_interpreter.get_tensor(output_details[0]['index'])\n",
    "    predictions[i] = output.argmax()"
   ]
  },
  {
   "cell_type": "code",
   "execution_count": 23,
   "metadata": {},
   "outputs": [
    {
     "name": "stdout",
     "output_type": "stream",
     "text": [
      "Accuracy of quantized to int8 model is 900.0%\n"
     ]
    }
   ],
   "source": [
    "sum = 0\n",
    "for i in range(len(predictions)):\n",
    "    if (predictions[i] == test_labels[i]):\n",
    "        sum = sum + 1\n",
    "accuracy_score = sum / 100\n",
    "print(\"Accuracy of quantized to int8 model is {}%\".format(accuracy_score*100))\n",
    "#print(\"Compared to float32 accuracy of {}%\".format(score[1]*100))\n",
    "#print(\"We have a change of {}%\".format((accuracy_score-score[1])*100))"
   ]
  }
 ],
 "metadata": {
  "kernelspec": {
   "display_name": "Python 3",
   "language": "python",
   "name": "python3"
  },
  "language_info": {
   "codemirror_mode": {
    "name": "ipython",
    "version": 3
   },
   "file_extension": ".py",
   "mimetype": "text/x-python",
   "name": "python",
   "nbconvert_exporter": "python",
   "pygments_lexer": "ipython3",
   "version": "3.7.0"
  }
 },
 "nbformat": 4,
 "nbformat_minor": 4
}
